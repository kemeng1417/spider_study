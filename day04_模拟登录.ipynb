{
 "cells": [
  {
   "cell_type": "markdown",
   "metadata": {},
   "source": [
    "### 回顾\n",
    "- 问题：往往在进行高频请求时，会报错：HTTPConnetionPool(host:xx) Max reties exceeded with url\n",
    "- 原因：\n",
    "    - 1.每次数据传输前客户端和服务器建立TCP连接，为了节省连接时间，默认会建立keep-alive,也就是说建立一次连接，可以进行多次的传输，但是连接一直不断开，那么会导致连接池满后无法建立新的连接对象，导致请求无法发送\n",
    "    - 2.ip被封\n",
    "    - 3.请求频率太频繁\n",
    "- 解决\n",
    "    - 1.设置请求头中的Connection的值为close，表示每次请求完后会断开连接\n",
    "    - 更换请求ip\n",
    "    - 每次请求之间使用sleep进行等待间隔\n",
    "    - proxies\n",
    "        - [\n",
    "            {代理服务器1},\n",
    "            {代理服务器2},\n",
    "            {代理服务器3}\n",
    "        ]   "
   ]
  },
  {
   "cell_type": "code",
   "execution_count": 1,
   "metadata": {},
   "outputs": [],
   "source": [
    "import requests\n",
    "headers = {\n",
    "    'Connection':'close',\n",
    "    'User-Agent': 'Mozilla/5.0 (Windows NT 10.0; Win64; x64) AppleWebKit/537.36 (KHTML, like Gecko) Chrome/83.0.4103.116 Safari/537.36',\n",
    "}"
   ]
  },
  {
   "cell_type": "markdown",
   "metadata": {},
   "source": [
    "### 验证码识别\n",
    "- 线上的打码平台进行验证码识别\n",
    "    - 云打码\n",
    "    - 超级鹰（使用）\n",
    "    - 打码兔\n",
    "- 超级鹰使用流程\n",
    "    - 注册：身份-用户中心\n",
    "    - 登录：\n",
    "        - 创建一个软件：软件id--生成一个软件id\n",
    "        - 下载示例代码，封装"
   ]
  },
  {
   "cell_type": "markdown",
   "metadata": {},
   "source": [
    "### 模拟登录\n",
    "- 涉及的反爬机制\n",
    "    - 验证码\n",
    "    - 动态变化的请求参数\n",
    "    - cookie\n",
    "- UA\n",
    "- robots\n",
    "- 动态加载的数据\n",
    "- 图片懒加载\n",
    "- 代理\n",
    "- js加密\n",
    "- js混淆"
   ]
  },
  {
   "cell_type": "code",
   "execution_count": null,
   "metadata": {},
   "outputs": [],
   "source": [
    "# 解析本次登录需要解析的验证码图片地址\n",
    "# 发送请求保存图片到本地\n",
    "# 将动态变化的请求参数从页面源码中解析出来\n",
    "# 识别验证码"
   ]
  },
  {
   "cell_type": "markdown",
   "metadata": {},
   "source": [
    "- 没有登录成功\n",
    "    - url没错\n",
    "    - 请求参数：\n",
    "        - 有奇怪的请求参数\n",
    "            - 判断是否加密\n",
    "            - 判断是否动态变化\n",
    "    - 动态变化的参数都隐藏在请求页面的动态页面源码中\n",
    "    - 需要在抓包工具中对动态变化的请求参数的名称进行全局搜索（类似django的csrf_token）\n",
    "    - 分析cookie导致\n",
    "        - 对每一次请求用session发送\n",
    "            - sess = request.Session()"
   ]
  }
 ],
 "metadata": {
  "hide_input": false,
  "kernelspec": {
   "display_name": "Python 3",
   "language": "python",
   "name": "python3"
  },
  "language_info": {
   "codemirror_mode": {
    "name": "ipython",
    "version": 3
   },
   "file_extension": ".py",
   "mimetype": "text/x-python",
   "name": "python",
   "nbconvert_exporter": "python",
   "pygments_lexer": "ipython3",
   "version": "3.7.6"
  }
 },
 "nbformat": 4,
 "nbformat_minor": 4
}
