{
 "cells": [
  {
   "cell_type": "markdown",
   "metadata": {},
   "source": [
    "### 回顾\n",
    "- 反爬机制\n",
    "    - robots协议\n",
    "    - UA检测\n",
    "        - UA：User-Agent是用来伪装成浏览器的\n",
    "    - 动态加载数据\n",
    "- 如何检测爬取的数据是动态加载的数据？\n",
    "    - 基于抓包工具进行局部搜索\n",
    "- 如何捕获动态加载的数据\n",
    "    - 基于抓包工具进行全局搜索\n",
    "- 如何检测网站数据更新的情况\n",
    "    - 增量式爬虫： 检测网站动态变化的数据\n",
    "    "
   ]
  },
  {
   "cell_type": "markdown",
   "metadata": {},
   "source": [
    "### 图片懒加载\n",
    "- 分析：\n",
    "    - 图片数据是否为动态加载的数据\n",
    "        - 除了在response中进行局部搜索外，可以通过preview中查看可视化内容，判断内容是否加载出来\n",
    "        - 只显示图片名称，没有显示图片\n",
    "- 反爬机制：\n",
    "    - 图片懒加载，只有图片显示在可视化范围之内，则图片才会被加载出来\n",
    "        - 伪属性：src2，阻止图片加载，只有伪属性变成真正的src属性值图片才会被加载出来"
   ]
  },
  {
   "cell_type": "markdown",
   "metadata": {},
   "source": [
    "- 面试题：爬取华为门店的数据\n",
    "- 捕获到一家就可以捕获所有\n",
    "- 分析，捕获的数据是否是动态加载的数据\n",
    "    - 数据是动态加载的\n",
    "        - 则全局搜索找到动态加载的数据的url的地址\n",
    "            - url\n",
    "            - 参数\n",
    "        - shopid对应的一个门店的唯一标识\n",
    "        - 需要获取到全部门店的id\n",
    "        \n",
    "- json_data_ids = requests.post(url=url, headers=headers, **json=data**).json() 或者将data反序列化 **data=json.dumps(data)**  !!!!"
   ]
  },
  {
   "cell_type": "code",
   "execution_count": 2,
   "metadata": {
    "collapsed": true
   },
   "outputs": [
    {
     "data": {
      "text/plain": [
       "['http://pic2.sc.chinaz.com/Files/pic/pic9/202006/apic26263_s.jpg',\n",
       " 'http://pic.sc.chinaz.com/Files/pic/pic9/202006/apic26254_s.jpg',\n",
       " 'http://pic.sc.chinaz.com/Files/pic/pic9/202006/apic26209_s.jpg',\n",
       " 'http://pic.sc.chinaz.com/Files/pic/pic9/202006/apic26237_s.jpg',\n",
       " 'http://pic.sc.chinaz.com/Files/pic/pic9/202006/apic26148_s.jpg',\n",
       " 'http://pic.sc.chinaz.com/Files/pic/pic9/202006/apic26112_s.jpg',\n",
       " 'http://pic.sc.chinaz.com/Files/pic/pic9/202006/apic26023_s.jpg',\n",
       " 'http://pic.sc.chinaz.com/Files/pic/pic9/202006/apic26035_s.jpg',\n",
       " 'http://pic.sc.chinaz.com/Files/pic/pic9/202006/apic25993_s.jpg',\n",
       " 'http://pic2.sc.chinaz.com/Files/pic/pic9/202006/apic25843_s.jpg',\n",
       " 'http://pic2.sc.chinaz.com/Files/pic/pic9/202006/apic25813_s.jpg',\n",
       " 'http://pic2.sc.chinaz.com/Files/pic/pic9/202006/apic25795_s.jpg',\n",
       " 'http://pic2.sc.chinaz.com/Files/pic/pic9/202006/apic25789_s.jpg',\n",
       " 'http://pic2.sc.chinaz.com/Files/pic/pic9/202006/apic25723_s.jpg',\n",
       " 'http://pic2.sc.chinaz.com/Files/pic/pic9/202006/apic25768_s.jpg',\n",
       " 'http://pic2.sc.chinaz.com/Files/pic/pic9/202006/apic25645_s.jpg',\n",
       " 'http://pic2.sc.chinaz.com/Files/pic/pic9/202005/apic25549_s.jpg',\n",
       " 'http://pic2.sc.chinaz.com/Files/pic/pic9/202005/apic25494_s.jpg',\n",
       " 'http://pic2.sc.chinaz.com/Files/pic/pic9/202005/apic25524_s.jpg',\n",
       " 'http://pic2.sc.chinaz.com/Files/pic/pic9/202005/apic25512_s.jpg',\n",
       " 'http://pic2.sc.chinaz.com/Files/pic/pic9/202005/apic25357_s.jpg',\n",
       " 'http://pic2.sc.chinaz.com/Files/pic/pic9/202005/apic25440_s.jpg',\n",
       " 'http://pic2.sc.chinaz.com/Files/pic/pic9/202005/apic25339_s.jpg',\n",
       " 'http://pic2.sc.chinaz.com/Files/pic/pic9/202005/apic25267_s.jpg',\n",
       " 'http://pic2.sc.chinaz.com/Files/pic/pic9/202005/zzpic24925_s.jpg',\n",
       " 'http://pic1.sc.chinaz.com/Files/pic/pic9/202004/bpic20172_s.jpg',\n",
       " 'http://pic1.sc.chinaz.com/Files/pic/pic9/202004/zzpic24796_s.jpg',\n",
       " 'http://pic1.sc.chinaz.com/Files/pic/pic9/202004/zzpic24680_s.jpg',\n",
       " 'http://pic1.sc.chinaz.com/Files/pic/pic9/202004/zzpic24780_s.jpg',\n",
       " 'http://pic1.sc.chinaz.com/Files/pic/pic9/202003/zzpic23990_s.jpg',\n",
       " 'http://pic1.sc.chinaz.com/Files/pic/pic9/202003/zzpic23916_s.jpg',\n",
       " 'http://pic1.sc.chinaz.com/Files/pic/pic9/202003/zzpic24019_s.jpg',\n",
       " 'http://pic1.sc.chinaz.com/Files/pic/pic9/202004/zzpic24206_s.jpg',\n",
       " 'http://pic.sc.chinaz.com/Files/pic/pic9/202002/zzpic23159_s.jpg',\n",
       " 'http://pic.sc.chinaz.com/Files/pic/pic9/202002/zzpic23141_s.jpg',\n",
       " 'http://pic.sc.chinaz.com/Files/pic/pic9/202002/zzpic23110_s.jpg',\n",
       " 'http://pic.sc.chinaz.com/Files/pic/pic9/202002/zzpic23063_s.jpg',\n",
       " 'http://pic.sc.chinaz.com/Files/pic/pic9/202001/zzpic22850_s.jpg',\n",
       " 'http://pic.sc.chinaz.com/Files/pic/pic9/202001/zzpic22886_s.jpg',\n",
       " 'http://pic.sc.chinaz.com/Files/pic/pic9/202001/zzpic22866_s.jpg']"
      ]
     },
     "execution_count": 2,
     "metadata": {},
     "output_type": "execute_result"
    }
   ],
   "source": [
    "import requests\n",
    "import re\n",
    "url = 'http://sc.chinaz.com/tupian/fengjingtupian.html'\n",
    "headers = {\n",
    "    'User-Agent': 'Mozilla/5.0 (Windows NT 10.0; Win64; x64) AppleWebKit/537.36 (KHTML, like Gecko) Chrome/83.0.4103.116 Safari/537.36'\n",
    "}\n",
    "page_text = requests.get(url=url, headers=headers).text  # 获取到字符串形式的响应数据\n",
    "# 利用正则进行解析\n",
    "\n",
    "ex = '<a.*?<img src2=\"(.*?)\" alt.*?</a>'\n",
    "re.findall(ex, page_text, re.S)  # re.S处理回车"
   ]
  },
  {
   "cell_type": "markdown",
   "metadata": {},
   "source": [
    "### 数据解析\n",
    "- 正则\n",
    "- bs4\n",
    "- xpath\n",
    "- pyquery"
   ]
  },
  {
   "cell_type": "markdown",
   "metadata": {},
   "source": [
    "### bs4解析\n",
    "- 为什么需要用到bs4\n",
    "    - 可以解析局部数据，实现聚焦爬虫\n",
    "- 数据解析的通用原理是什么？\n",
    "    - html是用来展示数据\n",
    "    - 原理流程：\n",
    "        - 1 标签定位\n",
    "        - 2 数据的提取\n",
    "- bs4数据解析的解析原理\n",
    "    - 实例化一个BeautifulSoup的对象，将需要解析的数据加载到该对象中\n",
    "        - 方式1：\n",
    "            - BeautifulSoup(fp,'lxml'):解析本地存储的html文件\n",
    "        - 方式2：\n",
    "            - BeautifulSoup(page_text, 'lxml):解析网上请求到的页面数据\n",
    "    - 调用BeautifulSoup对象中的相关方法和属性进行标签定位和数据的提取\n",
    "- 环境的安装：\n",
    "    - pip install bs4\n",
    "    - pip install lxml"
   ]
  },
  {
   "cell_type": "markdown",
   "metadata": {},
   "source": [
    "- 标签定义\n",
    "   - soup.tagName： 返回第一次出现的tagName标签\n",
    "   - 属性定位：soup.find('tagName',attrName='value') class_ 要这么写 例：soup.find('div',class_='aaa')\n",
    "   - findAll和find用法是一样的，只是findAll返回的是一个列表，定位到多个标签\n",
    "   - 选择器定位：定位到多个标签\n",
    "       - select('selector') 例：soup.select('.happy > ul > li > a')  # > 表示一个层级 空格表示多个层级\n",
    "       "
   ]
  },
  {
   "cell_type": "markdown",
   "metadata": {},
   "source": [
    "- 数据的提取\n",
    "    - 提取标签中存在的数据\n",
    "        - soup.p.string :取出标签直系的文本内容\n",
    "        - soup.p.text ：取出标签中所有的文本内容\n",
    "    - 提取标签属性中存储的数据\n",
    "        - tagName['attrName']"
   ]
  },
  {
   "cell_type": "code",
   "execution_count": 3,
   "metadata": {},
   "outputs": [],
   "source": [
    "from bs4 import BeautifulSoup"
   ]
  },
  {
   "cell_type": "code",
   "execution_count": 5,
   "metadata": {
    "collapsed": true
   },
   "outputs": [
    {
     "data": {
      "text/plain": [
       "<!DOCTYPE html PUBLIC \"-//W3C//DTD XHTML 1.0 Transitional//EN\" \"http://www.w3.org/TR/xhtml1/DTD/xhtml1-transitional.dtd\">\n",
       "<html xmlns=\"http://www.w3.org/1999/xhtml\">\n",
       "<head>\n",
       "<meta content=\"text/html; charset=utf-8\" http-equiv=\"Content-Type\"/>\n",
       "<meta content=\"IE=7\" http-equiv=\"X-UA-Compatible\"/>\n",
       "<meta content=\"\" name=\"keywords\"/>\n",
       "<meta content=\"\" name=\"description\"/>\n",
       "<title>海航集团协同办公平台</title>\n",
       "<!--[if IE 6]>\n",
       "<script src=\"../script/iepng.js\" type=\"text/javascript\"></script>\n",
       "<![endif]-->\n",
       "<link href=\"style/basic.css\" rel=\"stylesheet\" type=\"text/css\"/>\n",
       "<!--[if IE 6]>\n",
       "<script src=\"../script/iepng.js\" type=\"text/javascript\"></script>\n",
       "<![endif]-->\n",
       "<script src=\"../script/yu.js\" type=\"text/javascript\"></script>\n",
       "<script src=\"../script/tb.js\" type=\"text/javascript\"></script>\n",
       "<script src=\"../jscss/common.js\" type=\"text/javascript\"></script>\n",
       "<script language=\"JavaScript\">\n",
       "//\n",
       "var v_allowTopWindow = false;\n",
       "\n",
       "/* 测试是否允许弹出窗口 */\n",
       "function f_testTopWindow(){\n",
       "\tvar testWin = window.open('','testWin','height=1px,width=1px');\n",
       "\tif(testWin!=null && !testWin.closed){\n",
       "\t\tv_allowTopWindow = true;\n",
       "\t\ttestWin.close();\n",
       "\t}else{\n",
       "\t\tv_allowTopWindow = false;\n",
       "\t}\n",
       "}\n",
       "\n",
       "function f_init() {\n",
       "    f_testTopWindow();\n",
       "}  \n",
       "\n",
       "function f_login(){\n",
       "\tdocument.formInLogin.submit();\n",
       "}\n",
       "\n",
       "</script>\n",
       "</head>\n",
       "<body>\n",
       "<div id=\"container\">\n",
       "<!-- 标记(logo)区域 -->\n",
       "<div id=\"branding\">\n",
       "<img src=\"images/head_bg.jpg\"/></div>\n",
       "<!-- end 标记(logo)区域 -->\n",
       "<!-- 主要内容 -->\n",
       "<div id=\"content\">\n",
       "<!-- 两栏结构-左为辅助内容-右为主要内容 -->\n",
       "<div class=\"grid_c2_s4c20 box\">\n",
       "<div class=\"col_main\">\n",
       "<div class=\"main_wrap\">\n",
       "<!-- 右侧主要内容 -->\n",
       "<!-- 广告图片 -->\n",
       "<iframe frameborder=\"no\" height=\"534\" id=\"ifrdefault\" scrolling=\"no\" src=\"http://vpn.hnagroup.net/wifiwebui/PC/app.aspx\" style=\"margin-top:-18px;\" width=\"667\"></iframe>\n",
       "<!-- end app应用 -->\n",
       "<!-- end 右侧主要内容 -->\n",
       "</div>\n",
       "</div>\n",
       "<div class=\"col_sub\">\n",
       "<!-- 左侧边栏 -->\n",
       "<!-- 登录模块 -->\n",
       "<form action=\"../PC/logout.jsp\" method=\"post\" name=\"formInLogin\" target=\"_parent\">\n",
       "<div class=\"login_success\">\n",
       "<div class=\"btn_referrals\">\n",
       "<input name=\"language\" type=\"hidden\" value=\"null\"/>\n",
       "<input name=\"userip\" type=\"hidden\" value=\"null\"/>\n",
       "<input name=\"serialNo\" type=\"hidden\" value=\"null\"/>\n",
       "<input name=\"basip\" type=\"hidden\" value=\"\"/>\n",
       "<input name=\"language\" type=\"hidden\" value=\"Log Out\"/>\n",
       "<img onclick=\"f_login()\" src=\"images/btn_referrals.png\"/>\n",
       "</div>\n",
       "</div>\n",
       "</form>\n",
       "<!-- end 登录模块 -->\n",
       "<!-- 理念 -->\n",
       "<div class=\"border_bg\">\n",
       "<div class=\"linian\">\n",
       "</div>\n",
       "</div>\n",
       "<!-- end 理念 -->\n",
       "<!-- end 左侧边栏 -->\n",
       "</div>\n",
       "</div>\n",
       "<!-- end 两栏结构-左为辅助内容-右为主要内容 -->\n",
       "</div>\n",
       "<!-- end 主要内容 -->\n",
       "<!-- 站点信息 -->\n",
       "<div id=\"site_info\">\n",
       "<p>\n",
       "                版权所有<em>©</em>海航集团</p>\n",
       "</div>\n",
       "<!-- end 站点信息 -->\n",
       "</div>\n",
       "</body>\n",
       "</html>"
      ]
     },
     "execution_count": 5,
     "metadata": {},
     "output_type": "execute_result"
    }
   ],
   "source": [
    "# bs4中的方法和属性\n",
    "fp = open('./海航集团协同办公平台.html', 'r', encoding='utf-8')\n",
    "soup = BeautifulSoup(fp, 'lxml')\n",
    "soup  # 对象被解析的数据"
   ]
  },
  {
   "cell_type": "code",
   "execution_count": 6,
   "metadata": {
    "collapsed": true
   },
   "outputs": [
    {
     "data": {
      "text/plain": [
       "<div id=\"container\">\n",
       "<!-- 标记(logo)区域 -->\n",
       "<div id=\"branding\">\n",
       "<img src=\"images/head_bg.jpg\"/></div>\n",
       "<!-- end 标记(logo)区域 -->\n",
       "<!-- 主要内容 -->\n",
       "<div id=\"content\">\n",
       "<!-- 两栏结构-左为辅助内容-右为主要内容 -->\n",
       "<div class=\"grid_c2_s4c20 box\">\n",
       "<div class=\"col_main\">\n",
       "<div class=\"main_wrap\">\n",
       "<!-- 右侧主要内容 -->\n",
       "<!-- 广告图片 -->\n",
       "<iframe frameborder=\"no\" height=\"534\" id=\"ifrdefault\" scrolling=\"no\" src=\"http://vpn.hnagroup.net/wifiwebui/PC/app.aspx\" style=\"margin-top:-18px;\" width=\"667\"></iframe>\n",
       "<!-- end app应用 -->\n",
       "<!-- end 右侧主要内容 -->\n",
       "</div>\n",
       "</div>\n",
       "<div class=\"col_sub\">\n",
       "<!-- 左侧边栏 -->\n",
       "<!-- 登录模块 -->\n",
       "<form action=\"../PC/logout.jsp\" method=\"post\" name=\"formInLogin\" target=\"_parent\">\n",
       "<div class=\"login_success\">\n",
       "<div class=\"btn_referrals\">\n",
       "<input name=\"language\" type=\"hidden\" value=\"null\"/>\n",
       "<input name=\"userip\" type=\"hidden\" value=\"null\"/>\n",
       "<input name=\"serialNo\" type=\"hidden\" value=\"null\"/>\n",
       "<input name=\"basip\" type=\"hidden\" value=\"\"/>\n",
       "<input name=\"language\" type=\"hidden\" value=\"Log Out\"/>\n",
       "<img onclick=\"f_login()\" src=\"images/btn_referrals.png\"/>\n",
       "</div>\n",
       "</div>\n",
       "</form>\n",
       "<!-- end 登录模块 -->\n",
       "<!-- 理念 -->\n",
       "<div class=\"border_bg\">\n",
       "<div class=\"linian\">\n",
       "</div>\n",
       "</div>\n",
       "<!-- end 理念 -->\n",
       "<!-- end 左侧边栏 -->\n",
       "</div>\n",
       "</div>\n",
       "<!-- end 两栏结构-左为辅助内容-右为主要内容 -->\n",
       "</div>\n",
       "<!-- end 主要内容 -->\n",
       "<!-- 站点信息 -->\n",
       "<div id=\"site_info\">\n",
       "<p>\n",
       "                版权所有<em>©</em>海航集团</p>\n",
       "</div>\n",
       "<!-- end 站点信息 -->\n",
       "</div>"
      ]
     },
     "execution_count": 6,
     "metadata": {},
     "output_type": "execute_result"
    }
   ],
   "source": [
    "# 标签定位\n",
    "soup.div"
   ]
  },
  {
   "cell_type": "code",
   "execution_count": 8,
   "metadata": {
    "collapsed": true
   },
   "outputs": [
    {
     "data": {
      "text/plain": [
       "<div id=\"site_info\">\n",
       "<p>\n",
       "                版权所有<em>©</em>海航集团</p>\n",
       "</div>"
      ]
     },
     "execution_count": 8,
     "metadata": {},
     "output_type": "execute_result"
    }
   ],
   "source": [
    "# 属性定位：根据属性定位的表情\n",
    "soup.find('div', id='site_info')"
   ]
  },
  {
   "cell_type": "code",
   "execution_count": 9,
   "metadata": {
    "collapsed": true
   },
   "outputs": [
    {
     "data": {
      "text/plain": [
       "[<div id=\"site_info\">\n",
       " <p>\n",
       "                 版权所有<em>©</em>海航集团</p>\n",
       " </div>]"
      ]
     },
     "execution_count": 9,
     "metadata": {},
     "output_type": "execute_result"
    }
   ],
   "source": [
    "soup.select('#site_info')  # 根据id选择器定位a标签"
   ]
  },
  {
   "cell_type": "code",
   "execution_count": 10,
   "metadata": {},
   "outputs": [
    {
     "data": {
      "text/plain": [
       "[<div class=\"border_bg\">\n",
       " <div class=\"linian\">\n",
       " </div>\n",
       " </div>]"
      ]
     },
     "execution_count": 10,
     "metadata": {},
     "output_type": "execute_result"
    }
   ],
   "source": [
    "soup.select('.border_bg')  # 根据class选择器定位a标签"
   ]
  },
  {
   "cell_type": "code",
   "execution_count": 12,
   "metadata": {
    "collapsed": true
   },
   "outputs": [
    {
     "data": {
      "text/plain": [
       "[<input name=\"language\" type=\"hidden\" value=\"null\"/>,\n",
       " <input name=\"userip\" type=\"hidden\" value=\"null\"/>,\n",
       " <input name=\"serialNo\" type=\"hidden\" value=\"null\"/>,\n",
       " <input name=\"basip\" type=\"hidden\" value=\"\"/>,\n",
       " <input name=\"language\" type=\"hidden\" value=\"Log Out\"/>]"
      ]
     },
     "execution_count": 12,
     "metadata": {},
     "output_type": "execute_result"
    }
   ],
   "source": [
    "# 层级选择器\n",
    "soup.select('.login_success > div > input')  # > 表示一个层级\n",
    "soup.select('.login_success input')  # 空格表示多个层级"
   ]
  },
  {
   "cell_type": "code",
   "execution_count": 18,
   "metadata": {
    "collapsed": true
   },
   "outputs": [
    {
     "data": {
      "text/plain": [
       "'\\n                版权所有©海航集团'"
      ]
     },
     "execution_count": 18,
     "metadata": {},
     "output_type": "execute_result"
    }
   ],
   "source": [
    "soup.p.text"
   ]
  },
  {
   "cell_type": "code",
   "execution_count": 20,
   "metadata": {
    "collapsed": true
   },
   "outputs": [
    {
     "data": {
      "text/plain": [
       "'images/head_bg.jpg'"
      ]
     },
     "execution_count": 20,
     "metadata": {},
     "output_type": "execute_result"
    }
   ],
   "source": [
    "soup.img['src']"
   ]
  },
  {
   "cell_type": "code",
   "execution_count": 28,
   "metadata": {},
   "outputs": [],
   "source": [
    "# bs4爬取三国演义小说数据\n",
    "url = 'http://www.shicimingju.com/book/sanguoyanyi.html'\n",
    "page_text = requests.get(url=url, headers=headers).text\n",
    "fp = open('./sanguo.txt', 'w', encoding='utf-8')\n",
    "soup = BeautifulSoup(page_text, 'lxml')\n",
    "a_list = soup.select('.book-mulu > ul > li > a')\n",
    "for a in a_list:\n",
    "    title = a.string\n",
    "    detail_url = 'http://www.shicimingju.com'+a['href']\n",
    "\n",
    "    # 解析提取章节内容\n",
    "    detail_page = requests.get(url=detail_url, headers=headers).text\n",
    "    # 解析详情页中的章节内容\n",
    "    d_soup = BeautifulSoup(detail_page, 'lxml')\n",
    "    content = d_soup.find('div', class_='chapter_content').text\n",
    "    fp.write(title+':' + content+'\\n')\n",
    "    print(title, '下载完成')\n",
    "fp.close()"
   ]
  },
  {
   "cell_type": "markdown",
   "metadata": {},
   "source": [
    "### xpath数据解析原理\n",
    "- html标签结构\n",
    "    - 是一个树状结构\n",
    "- xpath解析原理\n",
    "    - 实例化一个etree对象，且将即将被解析的数据加载到对象中\n",
    "        - 解析本地存储的html文档\n",
    "            - etree.parse('filename')\n",
    "            - parser = etree.HTMLParser(encoding='utf-8') # html不规范时手动添加parser参数\n",
    "        - 解析互联网爬取的html数据\n",
    "            - etree.HTML(page_text)\n",
    "            \n",
    "    - 使用etree对象中xpath方法结合着不同的xpath表达式实现标签和定位，重点是不同的xpath表达式\n",
    "    "
   ]
  },
  {
   "cell_type": "markdown",
   "metadata": {},
   "source": [
    "### xpath表达式\n",
    "- 标签定位\n",
    "    - 最左侧的/:必须要从根标签开始逐层的定位目标标签\n",
    "    - 不是最左侧的/:表示一个层级\n",
    "    - 最左侧的//:可以从任意位置定义目标标签\n",
    "    - 不是最左侧的//:表示多个层级\n",
    "    \n",
    "    - 属性定位://tagName[@attrName=\"sss\"]\n",
    "    - 索引定位://tagName[index],index的索引是从1开始的\n",
    "    - 模糊匹配：\n",
    "        - //div[contains(@class, 'ng')] 定位到class属性包含ng的div标签\n",
    "        - //div[starts-with(@class, 'ta')] 定位到class属性值中以ta开头的div标签\n",
    "- 数据解析\n",
    "    - 取标签中的数据\n",
    "        - /text() :直系文本内容，相当于bs4中的string\n",
    "        - //text()：标签中的所有的内容，相当于bs4中的text\n",
    "    - 取属性的数据\n",
    "        - tagName/@attrName\n",
    "    - 提升数据解析的通用性\n",
    "        - 两个表达式通过管道符连接 |"
   ]
  },
  {
   "cell_type": "code",
   "execution_count": 31,
   "metadata": {},
   "outputs": [],
   "source": [
    "from lxml import etree"
   ]
  },
  {
   "cell_type": "code",
   "execution_count": 45,
   "metadata": {},
   "outputs": [],
   "source": [
    "parser = etree.HTMLParser(encoding='utf-8')  # html不规范时手动添加parser参数\n",
    "tree = etree.parse('./test.html', parser=parser)"
   ]
  },
  {
   "cell_type": "code",
   "execution_count": 46,
   "metadata": {},
   "outputs": [
    {
     "data": {
      "text/plain": [
       "<lxml.etree._ElementTree at 0x2602f6cd388>"
      ]
     },
     "execution_count": 46,
     "metadata": {},
     "output_type": "execute_result"
    }
   ],
   "source": [
    "tree"
   ]
  },
  {
   "cell_type": "code",
   "execution_count": 47,
   "metadata": {},
   "outputs": [
    {
     "data": {
      "text/plain": [
       "[<Element head at 0x2602eb36c88>]"
      ]
     },
     "execution_count": 47,
     "metadata": {},
     "output_type": "execute_result"
    }
   ],
   "source": [
    "tree.xpath('/html/head')  # 从根标签开始定位head标签\n",
    "tree.xpath('//head')  # 将标签中所有的head标签定位到"
   ]
  },
  {
   "cell_type": "code",
   "execution_count": 50,
   "metadata": {},
   "outputs": [
    {
     "data": {
      "text/plain": [
       "['相关搜索']"
      ]
     },
     "execution_count": 50,
     "metadata": {},
     "output_type": "execute_result"
    }
   ],
   "source": [
    "tree.xpath('//div[@class=\"tt\"]//text()')"
   ]
  },
  {
   "cell_type": "code",
   "execution_count": 59,
   "metadata": {},
   "outputs": [],
   "source": [
    "import os"
   ]
  },
  {
   "cell_type": "code",
   "execution_count": 60,
   "metadata": {
    "collapsed": true
   },
   "outputs": [
    {
     "name": "stdout",
     "output_type": "stream",
     "text": [
      "Epic7第七史诗动漫美女4k高清壁纸.jpg 下载完成\n",
      "鬼灭之刃蝴蝶忍4k高清电脑壁纸3840x2160.jpg 下载完成\n",
      "女孩子 校服 书包 鸟儿 回家的路上 4k动漫壁纸.jpg 下载完成\n",
      "女孩 紫色短发 连衣裙 白色裤袜 坐在凉席上 茶 凉鞋 樱花 4k动漫壁纸.jpg 下载完成\n",
      "女孩 侧坐在木地板上 室内 窗户 阳光 唯美艺术4k动漫人物壁纸.jpg 下载完成\n",
      "森林 花草树木 蝴蝶 刀剑神域 亚斯娜4k高清动漫壁纸.jpg 下载完成\n",
      "女孩 微笑 蹲着 水 海岸 海滩 波浪 风 夜晚 4k动漫壁纸.jpg 下载完成\n",
      "女孩喝啤酒 飘窗 城市夜景 雨天 猫 好看唯美4k动漫壁纸.jpg 下载完成\n",
      "动漫女孩 高挑美女 坐着 郎腿 小鸟 猫 唯美艺术动漫4k壁纸.jpg 下载完成\n",
      "dva 宅女 长筒袜 短发 可爱女孩4k壁纸.jpg 下载完成\n",
      "雨天透过车窗的女孩4k动漫壁纸3840x2160.jpg 下载完成\n",
      "可爱女生 单车 自行车 运动女孩 4k动漫壁纸.jpg 下载完成\n",
      "Aerith艾瑞丝 女孩子 花 唯美插图4k高清动漫壁纸.jpg 下载完成\n",
      "女孩子 鯨鱼 4k高清动漫壁纸.jpg 下载完成\n",
      "Fate Saber 阿尔托利亚潘德拉贡4k高清动漫壁纸.jpg 下载完成\n",
      "女仆装 黄色头发 可爱动漫美女4k壁纸3840x2160.jpg 下载完成\n",
      "Aerith艾瑞丝4k高清电脑壁纸.jpg 下载完成\n",
      "《伊什塔尔Ishtar》4k高清壁纸.jpg 下载完成\n",
      "美女 天使 彩色头发 梦幻唯美4k壁纸3840x2160.jpg 下载完成\n",
      "少女 女孩 耳朵 兽耳 长辫子背部 唯美4k动漫壁纸.jpg 下载完成\n",
      "公主 长卷发 美丽的裙子 蝴蝶 唯美4k动漫壁纸.jpg 下载完成\n",
      "白银圭 水手服 白色连衣裙 女子 高中生 4k动漫壁纸.jpg 下载完成\n",
      "女子 种子 花 4k动漫壁纸3840x2160.jpg 下载完成\n",
      "雪 女孩唯美插画4k高清动漫壁纸.jpg 下载完成\n",
      "美女剑客小姐姐二次元高清动漫壁纸.jpg 下载完成\n",
      "女生 女子 起床 晚上 都市 夜景 4k动漫壁纸.jpg 下载完成\n",
      "蓝色海水 水下女孩 海龟 鱼 唯美意境4k动漫壁纸.jpg 下载完成\n",
      "总有一天 女孩 城市 日落 天空 云 道路 唯美意境4k动漫壁纸3840x2160.jpg 下载完成\n",
      "穿白色裙子女孩  台阶 夏天的森林风景3440x1440动漫壁纸.jpg 下载完成\n",
      "夏天的森林风景 少女 白色裙子 石阶 5k动漫壁纸.jpg 下载完成\n",
      "星空背景风景4k动漫壁纸3840x2160.jpg 下载完成\n",
      "女孩兽耳 冬天风景 夜行 列车5k动漫壁纸.jpg 下载完成\n",
      "女孩 少女兽耳 长发 黑色裙子 小提琴 5k动漫壁纸.jpg 下载完成\n",
      "芙兰卡 雷蛇 明日方舟插画4k高清壁纸.jpg 下载完成\n",
      "车库 仓库 两个女生 记录 交流 4k动漫壁纸.jpg 下载完成\n",
      "冬季躺在雪地的女孩 玫瑰花 小狗 4k高清壁纸.jpg 下载完成\n",
      "人行横道女孩和猫4K壁纸.jpg 下载完成\n",
      "女孩子 短发 猫 房间 4k唯美动漫壁纸.jpg 下载完成\n",
      "蒂法 最终幻想7蒂法洛克哈特 凝视 酒吧 4k高清动漫壁纸图片.jpg 下载完成\n",
      "事务所 女孩 美女 烟 仙人掌 4k动漫壁纸.jpg 下载完成\n",
      "短发女孩 心情 城市 唯美艺术插画4k动漫壁纸.jpg 下载完成\n",
      "少女 女孩 背部写真唯美艺术插画4k动漫壁纸.jpg 下载完成\n",
      "英雄联盟lol光辉女郎拉克丝同人4k高清壁纸.jpg 下载完成\n",
      "黎塞留碧蓝航线4k动漫美女高清壁纸.jpg 下载完成\n",
      "女孩 美少女 炼金术士 实验 4k动漫壁纸3840x2160.jpg 下载完成\n",
      "黑暗 少女 黑盖头 宝座 高清3k动漫壁纸.jpg 下载完成\n",
      "海边 海岸 海风 地平线 Atelier Lydie 和 Suelle 普拉芙妲4k动漫壁纸.jpg 下载完成\n",
      "天空 坠落天使 女孩 小鸟儿 4k动漫壁纸.jpg 下载完成\n",
      "学生 女孩子 学生装 书包 手机 猫 人行横道 斑马线 4k高清动漫壁纸.jpg 下载完成\n",
      "Z23碧蓝航线4k高清动漫壁纸.jpg 下载完成\n",
      "新年快乐动漫美女4k高清壁纸3840x2160.jpg 下载完成\n",
      "Kochou Shinobu鬼灭之刃蝴蝶忍4k高清壁纸.jpg 下载完成\n",
      "女孩 少女 面具 蝴蝶 5k唯美动漫壁纸.jpg 下载完成\n",
      "难过的女孩 悲伤 流泪女孩4k动漫壁纸.jpg 下载完成\n",
      "夏天 女孩 游泳圈 冰棒 4k高清动漫壁纸.jpg 下载完成\n",
      "美少女 科学 实验室 风景 场景 空间 二次元动漫4k壁纸.jpg 下载完成\n",
      "女孩子 城市 高楼建筑 汽车 风景 4k动漫壁纸.jpg 下载完成\n",
      "女孩蓝色眼睛 深色头发 好看4k唯美动漫壁纸.jpg 下载完成\n",
      "少女房间 电脑 手机 相机 3440x1440带鱼屏壁纸.jpg 下载完成\n",
      "天空 夕阳 电车 动漫人物风景4k壁纸3840x2160.jpg 下载完成\n",
      "鬼灭之刃蝴蝶忍4k超高清壁纸.jpg 下载完成\n",
      "樱岛麻衣4k动漫壁纸.jpg 下载完成\n",
      "金发性感美女 狮子 4k动漫壁纸.jpg 下载完成\n",
      "碧蓝航线 美少女 海军服 老鹰 4k动漫壁纸.jpg 下载完成\n",
      "地铁 列车 偶像活动 金色长发少女 星宫莓4k壁纸.jpg 下载完成\n",
      "女孩子 场景 天使 晚上 灯 4k动漫壁纸.jpg 下载完成\n",
      "寂静站台 星空 夜晚 电线杆 单车 唯美意境4k高清动漫壁纸.jpg 下载完成\n",
      "艺术站梦想家4k唯美动漫壁纸3840x2160.jpg 下载完成\n",
      "女孩 漂亮裙子 玫瑰花 占卜 4k动漫高清壁纸.jpg 下载完成\n",
      "女孩子 美少女 白裤袜 明日方舟白面鸮4k动漫壁纸.jpg 下载完成\n",
      "山 瀑布 小路 风景绘画4k高清壁纸3840x2160.jpg 下载完成\n",
      "长发女子 中国风 古典 古董 艺术 收藏品 4k高清动漫壁纸.jpg 下载完成\n",
      "崩坏3彼岸双生希儿芙乐艾4k壁纸.jpg 下载完成\n",
      "Atago碧蓝航线 爱宕4k动漫壁纸.jpg 下载完成\n",
      "Overlord 雅儿贝德4k动漫壁纸3840x2160.jpg 下载完成\n",
      "Megumin惠惠4k动漫壁纸3840x2160.jpg 下载完成\n",
      "海边 动漫美女 Fate 贞德4k壁纸.jpg 下载完成\n",
      "女孩 闭眼 帽子 4k唯美动漫壁纸.jpg 下载完成\n",
      "可爱女孩 海边 海水 好看高清动漫壁纸.jpg 下载完成\n",
      "宝多六花4k电脑壁纸3840x2160.jpg 下载完成\n",
      "女孩 男孩 咖啡厅 约会 4k动漫壁纸.jpg 下载完成\n",
      "宝可梦剑盾玛俐Marnie 4k壁纸.jpg 下载完成\n",
      "02 zero two cc 反叛的鲁鲁修4k动漫壁纸.jpg 下载完成\n",
      "Saber阿尔托莉雅潘德拉贡4k动漫壁纸.jpg 下载完成\n"
     ]
    }
   ],
   "source": [
    "# 爬取图片数据和图片名称将其保存到本地\n",
    "# 第一页：http://pic.netbian.com/4kdongman/\n",
    "# 不是第一页：http://pic.netbian.com/4kdongman/index_2.html\n",
    "dirname ='./imglibs' \n",
    "if not os.path.exists(dirname):\n",
    "    os.mkdir(dirname)\n",
    "url = 'http://pic.netbian.com/4kdongman/index_{}.html'\n",
    "for page in range(1, 6):\n",
    "    if page == 1:\n",
    "        new_url = url\n",
    "    new_url = url.format(page)\n",
    "    res = requests.get(new_url, headers=headers)\n",
    "    res.encoding = 'gbk'\n",
    "    page_text = res.text\n",
    "    # 数据解析：图片地址和图片名称\n",
    "    tree = etree.HTML(page_text)\n",
    "    li_list = tree.xpath('//div[@class=\"slist\"]/ul/li')  # 全局数据解析\n",
    "    for li in li_list:\n",
    "        title = li.xpath('./a/img/@alt')[0]+'.jpg' # 局部数据解析\n",
    "        img_url = 'http://pic.netbian.com/'+li.xpath('./a/img/@src')[0]\n",
    "        img_data = requests.get(url=img_url, headers=headers).content\n",
    "        file_path = dirname + '/'+title\n",
    "        with open(file_path, 'wb') as f:\n",
    "            f.write(img_data)\n",
    "            print(title, '下载完成')"
   ]
  },
  {
   "cell_type": "code",
   "execution_count": 65,
   "metadata": {
    "collapsed": true
   },
   "outputs": [
    {
     "data": {
      "text/plain": [
       "['北京',\n",
       " '上海',\n",
       " '广州',\n",
       " '深圳',\n",
       " '杭州',\n",
       " '天津',\n",
       " '成都',\n",
       " '南京',\n",
       " '西安',\n",
       " '武汉',\n",
       " '阿坝州',\n",
       " '安康',\n",
       " '阿克苏地区',\n",
       " '阿里地区',\n",
       " '阿拉善盟',\n",
       " '阿勒泰地区',\n",
       " '安庆',\n",
       " '安顺',\n",
       " '鞍山',\n",
       " '克孜勒苏州',\n",
       " '安阳',\n",
       " '蚌埠',\n",
       " '白城',\n",
       " '保定',\n",
       " '北海',\n",
       " '宝鸡',\n",
       " '北京',\n",
       " '毕节',\n",
       " '博州',\n",
       " '百色',\n",
       " '白沙',\n",
       " '白山',\n",
       " '保山',\n",
       " '保亭',\n",
       " '包头',\n",
       " '本溪',\n",
       " '白银',\n",
       " '巴彦淖尔',\n",
       " '滨州',\n",
       " '巴中',\n",
       " '亳州',\n",
       " '长春',\n",
       " '承德',\n",
       " '成都',\n",
       " '常德',\n",
       " '昌都',\n",
       " '赤峰',\n",
       " '昌江',\n",
       " '昌吉州',\n",
       " '五家渠',\n",
       " '澄迈',\n",
       " '重庆',\n",
       " '常熟',\n",
       " '长沙',\n",
       " '楚雄州',\n",
       " '朝阳',\n",
       " '滁州',\n",
       " '郴州',\n",
       " '潮州',\n",
       " '常州',\n",
       " '长治',\n",
       " '崇左',\n",
       " '沧州',\n",
       " '池州',\n",
       " '定安',\n",
       " '丹东',\n",
       " '东方',\n",
       " '东莞',\n",
       " '德宏州',\n",
       " '大连',\n",
       " '大理州',\n",
       " '大庆',\n",
       " '大同',\n",
       " '定西',\n",
       " '大兴安岭地区',\n",
       " '黔南州',\n",
       " '德阳',\n",
       " '东营',\n",
       " '达州',\n",
       " '德州',\n",
       " '儋州',\n",
       " '鄂尔多斯',\n",
       " '恩施州',\n",
       " '鄂州',\n",
       " '防城港',\n",
       " '抚顺',\n",
       " '佛山',\n",
       " '阜新',\n",
       " '阜阳',\n",
       " '富阳',\n",
       " '福州',\n",
       " '抚州',\n",
       " '广安',\n",
       " '贵港',\n",
       " '果洛州',\n",
       " '桂林',\n",
       " '甘南州',\n",
       " '贵阳',\n",
       " '广元',\n",
       " '固原',\n",
       " '广州',\n",
       " '甘孜州',\n",
       " '赣州',\n",
       " '淮安',\n",
       " '淮北',\n",
       " '鹤壁',\n",
       " '海北州',\n",
       " '河池',\n",
       " '邯郸',\n",
       " '海东地区',\n",
       " '哈尔滨',\n",
       " '合肥',\n",
       " '黄冈',\n",
       " '鹤岗',\n",
       " '红河州',\n",
       " '怀化',\n",
       " '黑河',\n",
       " '呼和浩特',\n",
       " '海口',\n",
       " '呼伦贝尔',\n",
       " '葫芦岛',\n",
       " '海门',\n",
       " '哈密地区',\n",
       " '淮南',\n",
       " '黄南州',\n",
       " '海南州',\n",
       " '黄山',\n",
       " '衡水',\n",
       " '黄石',\n",
       " '和田地区',\n",
       " '海西州',\n",
       " '衡阳',\n",
       " '河源',\n",
       " '湖州',\n",
       " '汉中',\n",
       " '杭州',\n",
       " '贺州',\n",
       " '菏泽',\n",
       " '惠州',\n",
       " '吉安',\n",
       " '金昌',\n",
       " '晋城',\n",
       " '景德镇',\n",
       " '西双版纳州',\n",
       " '金华',\n",
       " '九江',\n",
       " '吉林',\n",
       " '荆门',\n",
       " '江门',\n",
       " '即墨',\n",
       " '佳木斯',\n",
       " '济南',\n",
       " '济宁',\n",
       " '胶南',\n",
       " '酒泉',\n",
       " '句容',\n",
       " '湘西州',\n",
       " '金坛',\n",
       " '嘉兴',\n",
       " '鸡西',\n",
       " '济源',\n",
       " '揭阳',\n",
       " '江阴',\n",
       " '嘉峪关',\n",
       " '锦州',\n",
       " '荆州',\n",
       " '晋中',\n",
       " '焦作',\n",
       " '胶州',\n",
       " '库尔勒',\n",
       " '开封',\n",
       " '黔东南州',\n",
       " '克拉玛依',\n",
       " '昆明',\n",
       " '昆山',\n",
       " '喀什地区',\n",
       " '临安',\n",
       " '六安',\n",
       " '来宾',\n",
       " '聊城',\n",
       " '临沧',\n",
       " '乐东',\n",
       " '娄底',\n",
       " '廊坊',\n",
       " '临汾',\n",
       " '临高',\n",
       " '漯河',\n",
       " '丽江',\n",
       " '吕梁',\n",
       " '陇南',\n",
       " '六盘水',\n",
       " '丽水',\n",
       " '凉山州',\n",
       " '拉萨',\n",
       " '乐山',\n",
       " '陵水',\n",
       " '莱芜',\n",
       " '临夏州',\n",
       " '莱西',\n",
       " '辽源',\n",
       " '辽阳',\n",
       " '溧阳',\n",
       " '龙岩',\n",
       " '洛阳',\n",
       " '临沂',\n",
       " '连云港',\n",
       " '莱州',\n",
       " '林芝',\n",
       " '泸州',\n",
       " '柳州',\n",
       " '兰州',\n",
       " '马鞍山',\n",
       " '牡丹江',\n",
       " '茂名',\n",
       " '眉山',\n",
       " '绵阳',\n",
       " '梅州',\n",
       " '宁波',\n",
       " '南充',\n",
       " '南昌',\n",
       " '宁德',\n",
       " '南京',\n",
       " '内江',\n",
       " '怒江州',\n",
       " '南宁',\n",
       " '南平',\n",
       " '那曲地区',\n",
       " '南通',\n",
       " '南阳',\n",
       " '平度',\n",
       " '平顶山',\n",
       " '普洱',\n",
       " '盘锦',\n",
       " '蓬莱',\n",
       " '平凉',\n",
       " '莆田',\n",
       " '萍乡',\n",
       " '濮阳',\n",
       " '攀枝花',\n",
       " '青岛',\n",
       " '琼海',\n",
       " '秦皇岛',\n",
       " '曲靖',\n",
       " '齐齐哈尔',\n",
       " '七台河',\n",
       " '黔西南州',\n",
       " '清远',\n",
       " '庆阳',\n",
       " '钦州',\n",
       " '衢州',\n",
       " '琼中',\n",
       " '泉州',\n",
       " '荣成',\n",
       " '日喀则',\n",
       " '乳山',\n",
       " '日照',\n",
       " '寿光',\n",
       " '韶关',\n",
       " '上海',\n",
       " '绥化',\n",
       " '石河子',\n",
       " '石家庄',\n",
       " '商洛',\n",
       " '三明',\n",
       " '三门峡',\n",
       " '遂宁',\n",
       " '山南',\n",
       " '四平',\n",
       " '宿迁',\n",
       " '商丘',\n",
       " '上饶',\n",
       " '汕头',\n",
       " '汕尾',\n",
       " '绍兴',\n",
       " '松原',\n",
       " '沈阳',\n",
       " '十堰',\n",
       " '三亚',\n",
       " '邵阳',\n",
       " '双鸭山',\n",
       " '朔州',\n",
       " '苏州',\n",
       " '宿州',\n",
       " '随州',\n",
       " '深圳',\n",
       " '石嘴山',\n",
       " '泰安',\n",
       " '铜川',\n",
       " '屯昌',\n",
       " '太仓',\n",
       " '塔城地区',\n",
       " '通化',\n",
       " '天津',\n",
       " '铁岭',\n",
       " '铜陵',\n",
       " '通辽',\n",
       " '吐鲁番地区',\n",
       " '铜仁地区',\n",
       " '唐山',\n",
       " '天水',\n",
       " '太原',\n",
       " '台州',\n",
       " '泰州',\n",
       " '文昌',\n",
       " '文登',\n",
       " '潍坊',\n",
       " '瓦房店',\n",
       " '武汉',\n",
       " '乌海',\n",
       " '芜湖',\n",
       " '威海',\n",
       " '吴江',\n",
       " '乌兰察布',\n",
       " '乌鲁木齐',\n",
       " '渭南',\n",
       " '万宁',\n",
       " '文山州',\n",
       " '武威',\n",
       " '无锡',\n",
       " '温州',\n",
       " '梧州',\n",
       " '吴忠',\n",
       " '五指山',\n",
       " '兴安盟',\n",
       " '西安',\n",
       " '宣城',\n",
       " '许昌',\n",
       " '襄阳',\n",
       " '孝感',\n",
       " '迪庆州',\n",
       " '锡林郭勒盟',\n",
       " '厦门',\n",
       " '西宁',\n",
       " '咸宁',\n",
       " '湘潭',\n",
       " '邢台',\n",
       " '新乡',\n",
       " '咸阳',\n",
       " '新余',\n",
       " '信阳',\n",
       " '忻州',\n",
       " '徐州',\n",
       " '雅安',\n",
       " '延安',\n",
       " '延边州',\n",
       " '宜宾',\n",
       " '伊春',\n",
       " '银川',\n",
       " '宜春',\n",
       " '宜昌',\n",
       " '盐城',\n",
       " '运城',\n",
       " '云浮',\n",
       " '阳江',\n",
       " '营口',\n",
       " '玉林',\n",
       " '榆林',\n",
       " '伊犁哈萨克州',\n",
       " '阳泉',\n",
       " '玉树州',\n",
       " '烟台',\n",
       " '鹰潭',\n",
       " '义乌',\n",
       " '宜兴',\n",
       " '玉溪',\n",
       " '益阳',\n",
       " '岳阳',\n",
       " '永州',\n",
       " '扬州',\n",
       " '淄博',\n",
       " '自贡',\n",
       " '珠海',\n",
       " '镇江',\n",
       " '湛江',\n",
       " '诸暨',\n",
       " '张家港',\n",
       " '张家界',\n",
       " '张家口',\n",
       " '周口',\n",
       " '驻马店',\n",
       " '章丘',\n",
       " '肇庆',\n",
       " '舟山',\n",
       " '中山',\n",
       " '昭通',\n",
       " '中卫',\n",
       " '招远',\n",
       " '资阳',\n",
       " '张掖',\n",
       " '遵义',\n",
       " '郑州',\n",
       " '漳州',\n",
       " '株洲',\n",
       " '枣庄']"
      ]
     },
     "execution_count": 65,
     "metadata": {},
     "output_type": "execute_result"
    }
   ],
   "source": [
    "# 提升xpath表达式的通用性\n",
    "url = 'https://www.aqistudy.cn/historydata/'\n",
    "page_text = requests.get(url=url, headers=headers).text\n",
    "tree = etree.HTML(page_text)\n",
    "all_name = tree.xpath('//div[@class=\"bottom\"]/ul/li/a/text() | //div[@class=\"bottom\"]/ul/div[2]/li/a/text()') # 利用管道符提升xpath表达式的通用性\n",
    "all_name"
   ]
  },
  {
   "cell_type": "markdown",
   "metadata": {},
   "source": [
    "- 面试题：\n",
    "    - 想要解析出一张页面中的指定的局部带标签的数据。\n",
    "        - 使用bs4解析定位标签后，直接返回的就是标签的内容"
   ]
  },
  {
   "cell_type": "code",
   "execution_count": 66,
   "metadata": {},
   "outputs": [
    {
     "data": {
      "text/plain": [
       "<a href=\"/\"><img id=\"logo\" src=\"/public/image/logo.png\"/></a>"
      ]
     },
     "execution_count": 66,
     "metadata": {},
     "output_type": "execute_result"
    }
   ],
   "source": [
    "soup.a"
   ]
  },
  {
   "cell_type": "code",
   "execution_count": null,
   "metadata": {},
   "outputs": [],
   "source": []
  }
 ],
 "metadata": {
  "hide_input": false,
  "kernelspec": {
   "display_name": "Python 3",
   "language": "python",
   "name": "python3"
  },
  "language_info": {
   "codemirror_mode": {
    "name": "ipython",
    "version": 3
   },
   "file_extension": ".py",
   "mimetype": "text/x-python",
   "name": "python",
   "nbconvert_exporter": "python",
   "pygments_lexer": "ipython3",
   "version": "3.7.6"
  }
 },
 "nbformat": 4,
 "nbformat_minor": 4
}
