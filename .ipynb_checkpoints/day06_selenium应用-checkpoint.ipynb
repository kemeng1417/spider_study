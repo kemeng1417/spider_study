{
 "cells": [
  {
   "cell_type": "markdown",
   "metadata": {},
   "source": [
    "### 内容\n",
    "- selenium捕获动态加载数据\n",
    "- selenium模拟登录\n",
    "- js加密、js混淆\n",
    "- 移动端数据爬取"
   ]
  },
  {
   "cell_type": "markdown",
   "metadata": {},
   "source": [
    "### selenium的应用\n",
    "- selenium和爬虫之间的关联\n",
    "    - 非常便捷的捕获到任意形式动态加载出来的数据\n",
    "        - 可见即可得\n",
    "        - 爬取数据的效率低\n",
    "    - 模拟登录"
   ]
  },
  {
   "cell_type": "code",
   "execution_count": 1,
   "metadata": {},
   "outputs": [],
   "source": [
    "from lxml import etree"
   ]
  },
  {
   "cell_type": "code",
   "execution_count": 8,
   "metadata": {
    "collapsed": true
   },
   "outputs": [
    {
     "name": "stdout",
     "output_type": "stream",
     "text": [
      "广东天姿化妆品科技有限公司\n",
      "皓雨（广州）化妆品制造有限公司\n",
      "广州润研化妆品有限公司\n",
      "恒冠湄颜健康产业（广州）有限公司\n",
      "广州荥美生物科技有限公司\n",
      "广州市婕芳化妆品有限公司\n",
      "广州易圣生物科技有限公司\n",
      "广州汉妆生物科技有限公司\n",
      "佛山凝品生物技术有限公司\n",
      "广东汇美生物科技有限公司\n",
      "广东真御生物科技股份有限公司\n",
      "广州雅奕生物科技有限公司\n",
      "佛山市嘉丽华化妆品有限公司\n",
      "广州市恒大精细化工有限公司\n",
      "广东芭薇生物科技股份有限公司\n",
      "广东天姿化妆品科技有限公司\n",
      "皓雨（广州）化妆品制造有限公司\n",
      "广州润研化妆品有限公司\n",
      "恒冠湄颜健康产业（广州）有限公司\n",
      "广州荥美生物科技有限公司\n",
      "广州市婕芳化妆品有限公司\n",
      "广州易圣生物科技有限公司\n",
      "广州汉妆生物科技有限公司\n",
      "佛山凝品生物技术有限公司\n",
      "广东汇美生物科技有限公司\n",
      "广东真御生物科技股份有限公司\n",
      "广州雅奕生物科技有限公司\n",
      "佛山市嘉丽华化妆品有限公司\n",
      "广州市恒大精细化工有限公司\n",
      "广东芭薇生物科技股份有限公司\n",
      "广州笔匠化妆品有限公司\n",
      "广州科妙生物科技有限公司\n",
      "广州市白云区研美化妆品厂\n",
      "佛山市南海区舟航精细日用化工有限公司\n",
      "烟台宝肤灵生物科技有限公司\n",
      "苏州伊涵日用化学品有限公司\n",
      "山东甲骨文生物科技有限公司\n",
      "广西湾昊生物科技有限公司\n",
      "广西茶氏家族山茶籽有限公司\n",
      "苏州市欧香雪化妆品有限公司\n",
      "四川海辰日用化工有限公司\n",
      "陆丰市雅宝日用品有限公司\n",
      "广州智创智美生物科技有限公司\n",
      "傲雪（广州）生物科技有限公司\n",
      "广州八面喜生物科技有限公司\n",
      "广州米塔化妆品有限公司\n",
      "广州柏俐臣化妆品科技有限公司\n",
      "广州雅清医药科技有限公司\n",
      "广州博科化妆品有限公司\n",
      "广东十长生化妆品制造有限公司\n",
      "福建三状元生物科技有限公司\n",
      "山东裕盛生物科技有限公司\n",
      "天津宝隆包装技术开发有限公司\n",
      "浙江天肌生物科技有限公司\n",
      "美尔健（深圳）生物科技有限公司\n",
      "湖南花山村医疗科技有限公司\n",
      "浙江艳桃化妆品有限公司\n",
      "奇妙生物科技（广州）有限公司\n",
      "广州七味堂药业有限公司\n",
      "梅州长荣生物科技有限公司\n"
     ]
    }
   ],
   "source": [
    "from selenium import webdriver\n",
    "import time\n",
    "bro = webdriver.Chrome(executable_path='./chromedriver.exe')\n",
    "url = 'http://125.35.6.84.:81/xk/'\n",
    "bro.get(url)\n",
    "time.sleep(2)\n",
    "# 获取当前浏览器显示的页面源码数据\n",
    "page_text = bro.page_source # 该属性可以返回当前页面被加载出来的页面源码数据\n",
    "\n",
    "# 列表，存放前三页的页面源码数据\n",
    "page_text_list = [page_text]\n",
    "for i in range(3):\n",
    "    # 进行下一页按钮的定位且对其进行点击\n",
    "    a_tag = bro.find_element_by_id('pageIto_next')\n",
    "    a_tag.click()\n",
    "    time.sleep(1)\n",
    "    page_text_list.append(bro.page_source)\n",
    "for page_text in page_text_list:\n",
    "    tree = etree.HTML(page_text)\n",
    "    li_list = tree.xpath('//*[@id=\"gzlist\"]/li')\n",
    "    for li in li_list:\n",
    "        name = li.xpath('./dl/@title')[0]\n",
    "        print(name)\n",
    "bro.quit()"
   ]
  },
  {
   "cell_type": "code",
   "execution_count": 9,
   "metadata": {},
   "outputs": [],
   "source": [
    "from PIL import Image"
   ]
  },
  {
   "cell_type": "markdown",
   "metadata": {},
   "source": [
    "- 注意事项：验证码出现偏差，可以调整电脑的缩放比例为100%"
   ]
  },
  {
   "cell_type": "code",
   "execution_count": 16,
   "metadata": {},
   "outputs": [],
   "source": [
    "bro = webdriver.Chrome(executable_path='./chromedriver.exe')\n",
    "url = 'https://kyfw.12306.cn/otn/login/init'\n",
    "bro.get(url)\n",
    "time.sleep(2)\n",
    "# 录入用户名和密码\n",
    "username_tag = bro.find_element_by_id('username')\n",
    "username_tag.send_keys('524277450@qq.com')\n",
    "pwd_tag = bro.find_element_by_id('password')\n",
    "pwd_tag.send_keys('Ke524277450Meng')\n",
    "\n",
    "# 验证码识别处理：验证码要使用截屏\n",
    "bro.save_screenshot('./main.png')\n",
    "# 对图片进行裁剪\n",
    "# 只需要将验证码图片的左下角和右上角坐标获取到，就可以裁剪矩形区域\n",
    "\n",
    "# 验证码图片的img标签\n",
    "img_tag = bro.find_element_by_xpath('//*[@id=\"loginForm\"]/div/ul[2]/li[4]/div/div/div[3]/img')\n",
    "location = img_tag.location # 当前标签在页面中左下角的坐标\n",
    "size = img_tag.size # 当前标签在页面中的尺寸\n",
    "# 裁剪矩形区域\n",
    "rangle = (int(location['x']),int(location['y']),int(location['x']+size['width']),int(location['y']+size['height']))\n",
    "# 基于image类提供的工具进行裁剪\n",
    "i = Image.open('./main.png')\n",
    "frame = i.crop(rangle)\n",
    "frame.save('./code.png')\n",
    "\n",
    "# 点击进行登录\n",
    "bro.find_element_by_id('loginSub').click()\n",
    "time.sleep(3)\n",
    "bro.quit()"
   ]
  },
  {
   "cell_type": "markdown",
   "metadata": {},
   "source": [
    "- from selenium.webdriver import ActionChains # 动作链\n",
    "- ActionCharins(bro).move_offset_..."
   ]
  },
  {
   "cell_type": "code",
   "execution_count": null,
   "metadata": {},
   "outputs": [],
   "source": [
    "bro = webdriver.Chrome(executable_path='./chromedriver.exe')\n",
    "bro.find"
   ]
  }
 ],
 "metadata": {
  "hide_input": false,
  "kernelspec": {
   "display_name": "Python 3",
   "language": "python",
   "name": "python3"
  },
  "language_info": {
   "codemirror_mode": {
    "name": "ipython",
    "version": 3
   },
   "file_extension": ".py",
   "mimetype": "text/x-python",
   "name": "python",
   "nbconvert_exporter": "python",
   "pygments_lexer": "ipython3",
   "version": "3.7.6"
  }
 },
 "nbformat": 4,
 "nbformat_minor": 4
}
